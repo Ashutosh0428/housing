{
 "cells": [
  {
   "cell_type": "code",
   "execution_count": 1,
   "metadata": {},
   "outputs": [],
   "source": [
    "import os\n",
    "\n",
    "os.chdir(os.pardir)"
   ]
  },
  {
   "cell_type": "code",
   "execution_count": 2,
   "metadata": {},
   "outputs": [],
   "source": [
    "from housing.pipeline.pipeline import Pipeline"
   ]
  },
  {
   "cell_type": "code",
   "execution_count": 3,
   "metadata": {},
   "outputs": [],
   "source": [
    "p=Pipeline()"
   ]
  },
  {
   "cell_type": "code",
   "execution_count": 4,
   "metadata": {},
   "outputs": [
    {
     "data": {
      "text/plain": [
       "<Pipeline(pipeline, initial)>"
      ]
     },
     "execution_count": 4,
     "metadata": {},
     "output_type": "execute_result"
    }
   ],
   "source": [
    "p"
   ]
  },
  {
   "cell_type": "code",
   "execution_count": 5,
   "metadata": {},
   "outputs": [
    {
     "name": "stderr",
     "output_type": "stream",
     "text": [
      "Exception in thread pipeline:\n",
      "Traceback (most recent call last):\n",
      "  File \"/home/avnish/iNeuron_Private_Intelligence_Limited/MachineLearningProject/machine_learning_project/housing/pipeline/pipeline.py\", line 183, in save_experiment\n",
      "    { \"experiment_file_path\": os.path.basename(experiment_dict[\"experiment_file_path\"]),\n",
      "  File \"/home/avnish/iNeuron_Private_Intelligence_Limited/MachineLearningProject/machine_learning_project/venv/lib/python3.7/posixpath.py\", line 146, in basename\n",
      "    p = os.fspath(p)\n",
      "TypeError: expected str, bytes or os.PathLike object, not list\n",
      "\n",
      "The above exception was the direct cause of the following exception:\n",
      "\n",
      "Traceback (most recent call last):\n",
      "  File \"/home/avnish/iNeuron_Private_Intelligence_Limited/MachineLearningProject/machine_learning_project/housing/pipeline/pipeline.py\", line 132, in run_pipeline\n",
      "    self.save_experiment()\n",
      "  File \"/home/avnish/iNeuron_Private_Intelligence_Limited/MachineLearningProject/machine_learning_project/housing/pipeline/pipeline.py\", line 196, in save_experiment\n",
      "    raise HousingException(e,sys) from e\n",
      "housing.exception.HousingException: \n",
      "        Error occured in script: \n",
      "        [ /home/avnish/iNeuron_Private_Intelligence_Limited/MachineLearningProject/machine_learning_project/housing/pipeline/pipeline.py ] at \n",
      "        try block line number: [183] and exception block line number: [196] \n",
      "        error message: [expected str, bytes or os.PathLike object, not list]\n",
      "        \n",
      "\n",
      "The above exception was the direct cause of the following exception:\n",
      "\n",
      "Traceback (most recent call last):\n",
      "  File \"/home/avnish/iNeuron_Private_Intelligence_Limited/MachineLearningProject/machine_learning_project/venv/lib/python3.7/threading.py\", line 917, in _bootstrap_inner\n",
      "    self.run()\n",
      "  File \"/home/avnish/iNeuron_Private_Intelligence_Limited/MachineLearningProject/machine_learning_project/housing/pipeline/pipeline.py\", line 173, in run\n",
      "    raise e\n",
      "  File \"/home/avnish/iNeuron_Private_Intelligence_Limited/MachineLearningProject/machine_learning_project/housing/pipeline/pipeline.py\", line 171, in run\n",
      "    self.run_pipeline()\n",
      "  File \"/home/avnish/iNeuron_Private_Intelligence_Limited/MachineLearningProject/machine_learning_project/housing/pipeline/pipeline.py\", line 167, in run_pipeline\n",
      "    raise HousingException(e, sys) from e\n",
      "housing.exception.HousingException: \n",
      "        Error occured in script: \n",
      "        [ /home/avnish/iNeuron_Private_Intelligence_Limited/MachineLearningProject/machine_learning_project/housing/pipeline/pipeline.py ] at \n",
      "        try block line number: [132] and exception block line number: [167] \n",
      "        error message: [\n",
      "        Error occured in script: \n",
      "        [ /home/avnish/iNeuron_Private_Intelligence_Limited/MachineLearningProject/machine_learning_project/housing/pipeline/pipeline.py ] at \n",
      "        try block line number: [183] and exception block line number: [196] \n",
      "        error message: [expected str, bytes or os.PathLike object, not list]\n",
      "        ]\n",
      "        \n",
      "\n"
     ]
    }
   ],
   "source": [
    "p.start()"
   ]
  },
  {
   "cell_type": "code",
   "execution_count": null,
   "metadata": {},
   "outputs": [],
   "source": []
  }
 ],
 "metadata": {
  "kernelspec": {
   "display_name": "Python 3.7.0 (conda)",
   "language": "python",
   "name": "python3"
  },
  "language_info": {
   "codemirror_mode": {
    "name": "ipython",
    "version": 3
   },
   "file_extension": ".py",
   "mimetype": "text/x-python",
   "name": "python",
   "nbconvert_exporter": "python",
   "pygments_lexer": "ipython3",
   "version": "3.7.0"
  },
  "orig_nbformat": 4,
  "vscode": {
   "interpreter": {
    "hash": "fc6fa6e48c86001677d15bc9af4f846353042d089527ab27e7c7a4474d3b154b"
   }
  }
 },
 "nbformat": 4,
 "nbformat_minor": 2
}
